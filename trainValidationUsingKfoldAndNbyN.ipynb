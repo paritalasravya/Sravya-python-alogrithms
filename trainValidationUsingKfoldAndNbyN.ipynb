{
 "cells": [
  {
   "cell_type": "markdown",
   "metadata": {},
   "source": [
    "# Assignment 4 - Validation & Experimentation\n",
    "\n",
    "The goal of this assignment is to practice using good experimental design and methodology to train and test classifiers.  You will write some simple code to try doing this yourself, and you will also use the tools built into scikit-learn."
   ]
  },
  {
   "cell_type": "code",
   "execution_count": 1,
   "metadata": {},
   "outputs": [],
   "source": [
    "# import math and numpy first\n",
    "import math\n",
    "import numpy as np\n",
    "import scipy\n",
    "# import some data and classifiers to play with\n",
    "from sklearn import datasets\n",
    "from sklearn import neighbors\n",
    "from sklearn import svm\n",
    "# import some validation tools\n",
    "from sklearn.model_selection import train_test_split\n",
    "from sklearn.model_selection import cross_val_score\n",
    "from sklearn.model_selection import RepeatedKFold\n",
    "from sklearn.metrics import confusion_matrix"
   ]
  },
  {
   "cell_type": "markdown",
   "metadata": {},
   "source": [
    "### Load some data\n",
    "First we'll load the iris dataset again, since it's small and easy to play with."
   ]
  },
  {
   "cell_type": "code",
   "execution_count": 3,
   "metadata": {},
   "outputs": [
    {
     "name": "stdout",
     "output_type": "stream",
     "text": [
      "dataset shape: (150, 4) target shape: (150,)\n"
     ]
    }
   ],
   "source": [
    "iris = datasets.load_iris()\n",
    "# let's show the shape, just to remind ourselves\n",
    "print('dataset shape:', iris.data.shape, 'target shape:', iris.target.shape)"
   ]
  },
  {
   "cell_type": "code",
   "execution_count": null,
   "metadata": {},
   "outputs": [],
   "source": []
  },
  {
   "cell_type": "markdown",
   "metadata": {},
   "source": [
    "#todo\n",
    "iris = datasets.load_iris()\n",
    "y=iris.target\n",
    "classifierA = neighbors.KNeighborsClassifier(metric='euclidean', n_neighbors=1)\n",
    "classifierA.fit(iris.data, iris.target)\n",
    "for i in range(10):\n",
    "    x=i;\n",
    "    X_train, X_test, y_train, y_test = train_test_split(iris.data, iris.target, test_size=0.4, random_state=x)\n",
    "    linearSvm = svm.SVC(kernel='rbf')\n",
    "    a=linearSvm.fit(X_train, y_train)\n",
    "    b=linearSvm.score(X_test, y_test)\n",
    "    print(b)"
   ]
  },
  {
   "cell_type": "markdown",
   "metadata": {},
   "source": [
    "### Random seed\n",
    "\n",
    "Now try making a copy of the loop, but leave off the `random_state` argument entirely.  This version of the loop should give you output that is generally similar to the previous one, but each time you re-run it, you should get different scores.  This is because the 'default' for the `train_test_split` function is to not use a static seed value, so every time you run it you'll get a different result."
   ]
  },
  {
   "cell_type": "code",
   "execution_count": 4,
   "metadata": {},
   "outputs": [
    {
     "name": "stdout",
     "output_type": "stream",
     "text": [
      "0.9666666666666667\n",
      "0.9833333333333333\n",
      "0.9833333333333333\n",
      "0.95\n",
      "0.95\n",
      "0.9666666666666667\n",
      "1.0\n",
      "0.9666666666666667\n",
      "1.0\n",
      "0.9833333333333333\n"
     ]
    }
   ],
   "source": [
    "for i in range(10):\n",
    "    X_train, X_test, y_train, y_test = train_test_split(iris.data, iris.target, test_size=0.4)\n",
    "    linearSvm = svm.SVC(kernel='rbf')\n",
    "    a=linearSvm.fit(X_train, y_train)\n",
    "    b=linearSvm.score(X_test, y_test)\n",
    "    print(b)"
   ]
  },
  {
   "cell_type": "code",
   "execution_count": null,
   "metadata": {},
   "outputs": [],
   "source": []
  },
  {
   "cell_type": "code",
   "execution_count": 5,
   "metadata": {},
   "outputs": [
    {
     "name": "stdout",
     "output_type": "stream",
     "text": [
      "[0.95, 0.9666666666666667, 1.0, 0.9833333333333333, 0.9833333333333333, 0.9666666666666667, 0.9333333333333333, 0.9666666666666667, 1.0, 0.9833333333333333]\n",
      "0.9833333333333333\n"
     ]
    }
   ],
   "source": [
    "# todo\n",
    "myList=[]\n",
    "for i in range(10):\n",
    "    X_train, X_test, y_train, y_test = train_test_split(iris.data, iris.target, test_size=0.4)\n",
    "    linearSvm = svm.SVC(kernel='rbf')\n",
    "    a=linearSvm.fit(X_train, y_train)\n",
    "    b=linearSvm.score(X_test, y_test)\n",
    "    myList.append(b)\n",
    "print(myList)\n",
    "print(myList[9])"
   ]
  },
  {
   "cell_type": "markdown",
   "metadata": {},
   "source": [
    "### Average\n",
    "Compute the average of the list of numbers you made in the previous step; this is the average accuracy over your 10 trials"
   ]
  },
  {
   "cell_type": "code",
   "execution_count": 6,
   "metadata": {},
   "outputs": [
    {
     "name": "stdout",
     "output_type": "stream",
     "text": [
      "0.9733333333333333\n"
     ]
    }
   ],
   "source": [
    "# todo\n",
    "sum=0\n",
    "for i in range(10):\n",
    "    sum=sum + myList[i]\n",
    "average=sum/10\n",
    "print(average)"
   ]
  },
  {
   "cell_type": "markdown",
   "metadata": {},
   "source": [
    "### Variance & Standard Deviation\n",
    "Now compute the variance and standard deviation of your list of accuracies.  The standard deviation is the square root of the variance, and the variance is basically just the average squared differences from the mean.  \n",
    "\n",
    "This will be a bit like the loop you wrote to calculate Euclidean distance, only now you're subtracting the mean rather than a coordinate of another point, and you're going to be dividing by the number of items in the list minus one before you take the square root.  \n",
    "\n",
    "\n",
    "Note that the symbol for standard deviation is $\\sigma$; there's no standard symbol for variance, it's just $\\sigma^2$.  Here's the equations, where $N$ is the number of items in the list, $x_i$ is the $i$-th element of the list, and $\\mu$ is the mean:\n",
    "\n",
    "$ \\sigma^2 = \\frac{1}{N-1} \\sum_{i=1}^n (x_i - \\mu)^2 $\n",
    "\n",
    "$ \\sigma = \\sqrt{\\sigma^2} $"
   ]
  },
  {
   "cell_type": "code",
   "execution_count": 7,
   "metadata": {},
   "outputs": [
    {
     "name": "stdout",
     "output_type": "stream",
     "text": [
      "0.00044444444444444425\n",
      "0.02108185106778919\n"
     ]
    }
   ],
   "source": [
    "# todo\n",
    "sum=0\n",
    "for i in range(10):\n",
    "    sum = sum + ((myList[i]-average) * (myList[i]-average) )\n",
    "sd= sum/9\n",
    "print(sd)\n",
    "var = math.sqrt(sd)\n",
    "print(var)"
   ]
  },
  {
   "cell_type": "markdown",
   "metadata": {},
   "source": [
    "### Stats using scipy\n",
    "To check and see if you've calculated your statistics correctly, you can use the `scipy.stats` library.  In particular, if you call the method `scipy.stats.describe()` and give it a list of numbers as an argument, it will report a variety of statistics, including mean and variance.  Make sure that these values match the ones you've calculated above.  See https://docs.scipy.org/doc/scipy/reference/generated/scipy.stats.describe.html#scipy.stats.describe for documentation.\n",
    "\n",
    "In the future, it's fine to use the stats library to do this kind of thing for you, but it's a lot easier to understand the numbers coming out of the stats library once you've written code to calculate those numbers yourself.  You can also use this as a reference implementation, to check that your own code produces the same values."
   ]
  },
  {
   "cell_type": "code",
   "execution_count": 8,
   "metadata": {},
   "outputs": [
    {
     "data": {
      "text/plain": [
       "DescribeResult(nobs=10, minmax=(0.9333333333333333, 1.0), mean=0.9733333333333333, variance=0.00044444444444444414, skewness=-0.45833333333332527, kurtosis=-0.5601851851851887)"
      ]
     },
     "execution_count": 8,
     "metadata": {},
     "output_type": "execute_result"
    }
   ],
   "source": [
    "scipy.stats.describe(myList)"
   ]
  },
  {
   "cell_type": "markdown",
   "metadata": {},
   "source": [
    "# Part 3: K-Fold Cross-validation\n",
    "\n",
    "Now we'll use scikit-learn to do some more complicated types of validation.  Repeatedly re-spliting the data is okay, but it's not ideal from a statistical reliability standpoint (as we discussed in class).  Therefore, a better practice is to use k-fold cross-validation, as shown in this example.  Note the parameter `cv=5`; this is how many 'folds' to use, and will also be how many scores you get out."
   ]
  },
  {
   "cell_type": "code",
   "execution_count": 9,
   "metadata": {},
   "outputs": [
    {
     "data": {
      "text/plain": [
       "array([0.96666667, 1.        , 0.96666667, 0.96666667, 1.        ])"
      ]
     },
     "execution_count": 9,
     "metadata": {},
     "output_type": "execute_result"
    }
   ],
   "source": [
    "clf = svm.SVC(kernel='rbf')\n",
    "scores = cross_val_score(clf, iris.data, iris.target, cv=5)\n",
    "scores"
   ]
  },
  {
   "cell_type": "markdown",
   "metadata": {},
   "source": [
    "### Statistics on the accuracies\n",
    "\n",
    "Since `cross_val_score` returns a numpy array, we can use some of the numpy methods to get the mean and standard deviation:"
   ]
  },
  {
   "cell_type": "code",
   "execution_count": 10,
   "metadata": {},
   "outputs": [
    {
     "name": "stdout",
     "output_type": "stream",
     "text": [
      "mean accuracy: 0.9800000000000001 , stdDev: 0.016329931618554516\n"
     ]
    }
   ],
   "source": [
    "print('mean accuracy:', scores.mean(), ', stdDev:', scores.std())"
   ]
  },
  {
   "cell_type": "markdown",
   "metadata": {},
   "source": [
    "## Repeated K-fold (aka N-by-K fold)\n",
    "If you try running the cross-validation cell multiple times, you'll notice you get the same values back every time.  That's because `cross_val_score` doesn't shuffle the data randomly every time you call it.  If we actually want to re-run cross-validation with a new set of point-to-fold assignmenst, we can use the function `RepeatedKFold`, to get a set of folds, and then hand it to `cros_val_score` like this:"
   ]
  },
  {
   "cell_type": "code",
   "execution_count": 11,
   "metadata": {},
   "outputs": [
    {
     "data": {
      "text/plain": [
       "array([0.96666667, 0.9       , 0.96666667, 1.        , 1.        ,\n",
       "       1.        , 0.96666667, 0.93333333, 0.93333333, 0.96666667,\n",
       "       1.        , 0.96666667, 1.        , 0.93333333, 0.9       ])"
      ]
     },
     "execution_count": 11,
     "metadata": {},
     "output_type": "execute_result"
    }
   ],
   "source": [
    "rkf = RepeatedKFold(n_splits = 5, n_repeats = 3)\n",
    "scores2 = cross_val_score(clf, iris.data, iris.target, cv = rkf)\n",
    "scores2"
   ]
  },
  {
   "cell_type": "code",
   "execution_count": 12,
   "metadata": {},
   "outputs": [
    {
     "name": "stdout",
     "output_type": "stream",
     "text": [
      "mean accuracy: 0.9622222222222222 , stdDev: 0.03413842554608269\n"
     ]
    }
   ],
   "source": [
    "print('mean accuracy:', scores2.mean(), ', stdDev:', scores2.std())"
   ]
  },
  {
   "cell_type": "markdown",
   "metadata": {},
   "source": [
    "# Try using N-by-K to compare some classifiers\n",
    "\n",
    "Last week, we tried to compare some classifiers by hand; this week, lets use cross-validation and statistics.\n",
    "\n",
    "First, we'll run 5-fold cross-validation with 5 repeats to train and test a Nearest Neighbor classifier and a Linear-kernel SVM.  Each should give you an array of 20 accuracy values.  Print the mean and standard deviation for each classifier, then print the difference between the means.  Finally, use `scipy.stats.mannwhitneyu()` to check the $p$ value and see whether the difference is statistically significant (just hand it the two score arrays as inputs)."
   ]
  },
  {
   "cell_type": "code",
   "execution_count": 13,
   "metadata": {},
   "outputs": [
    {
     "name": "stdout",
     "output_type": "stream",
     "text": [
      "[1. 1. 1. ... 1. 1. 1.]\n",
      "Nearest Neighbor: mean = 0.96035 , stdDev = 0.16853153265783827\n",
      "Linear SVM: mean = 0.98035 , stdDev = 0.11848576918769613\n",
      "Difference between means: 0.020000000000000018\n"
     ]
    },
    {
     "data": {
      "text/plain": [
       "MannwhitneyuResult(statistic=48551588.5, pvalue=1.6065673858162007e-23)"
      ]
     },
     "execution_count": 13,
     "metadata": {},
     "output_type": "execute_result"
    }
   ],
   "source": [
    "rkf = RepeatedKFold(n_splits = 100, n_repeats = 100)\n",
    "scores2 = cross_val_score(clf, iris.data, iris.target, cv = rkf)\n",
    "print(scores2)\n",
    "nn = neighbors.KNeighborsClassifier(n_neighbors=1, metric='euclidean')\n",
    "svmLinear = svm.SVC(kernel='linear')\n",
    "\n",
    "nnScores = cross_val_score(nn, iris.data, iris.target, cv = rkf)\n",
    "svmScores = cross_val_score(svmLinear, iris.data, iris.target, cv = rkf)\n",
    "\n",
    "print('Nearest Neighbor: mean =', nnScores.mean(), ', stdDev =', nnScores.std())\n",
    "print('Linear SVM: mean =', svmScores.mean(), ', stdDev =', svmScores.std())\n",
    "print('Difference between means:', svmScores.mean() - nnScores.mean())\n",
    "scipy.stats.mannwhitneyu(nnScores, svmScores)"
   ]
  },
  {
   "cell_type": "markdown",
   "metadata": {},
   "source": [
    "## Compare different values of K and N\n",
    "\n",
    "Repeat the above experiment using the values of K and N below, and report the mean, stdDev, differece between the means, and p-value for each.  The first row has been completed for you (note that your numbers may be slightly different, since this is a stochastic process).  Also notice how long these take to finish (though you don't need to write that down).  Once the table is complete, look at it and try to see what patterns you can spot.\n",
    "\n",
    "***\n",
    "\n",
    "Folds | Repeats  |   NN-mean  |  NN-stdev  | SVM-mean  |  SVM-stdDev  |  difference   |  p-value\n",
    "------|----------|------------|------------|-----------|--------------|---------------|--------------\n",
    "5     |      4   |    0.957   |   0.035    |  0.977    |   0.032      |     0.033     |   0.032\n",
    "2     |      10  |    0.953   |   0.021    |  0.970    |   0.018      |     0.017     |   0.007\n",
    "10    |      2   |    0.96    |   0.053    |  0.980    |   0.0426     |     0.020     |   0.067\n",
    "10    |      10  |    0.959   |   0.047    |  0.976    |   0.037      |     0.016     |   0.004\n",
    "10    |     100  |    0.958   |   0.049    |  0.978    |   0.036      |     0.02      |   1.793\n",
    "100   |      10  |    0.961   |   0.165    |  0.980    |   0.117      |     0.019     |   0.0008\n",
    "100   |     100  |    0.959   |   0.171    |  0.979    |   0.124      |     0.019     |   3.8676"
   ]
  },
  {
   "cell_type": "markdown",
   "metadata": {},
   "source": [
    "# Part 4: Alternative Metrics\n",
    "\n",
    "Up until now, we've just worked with overall accuracy as our only way of \"scoring\" the performance of a classifier.  Now, we will try out some alternative tools for evaluating classifier performance.  In addition to the `.scores()` method, scikit-learn classifiers have a `.predict()` method which takes in a set of examples as an argument, and returns an array with the predicted labels for those examples.  Here's an example:"
   ]
  },
  {
   "cell_type": "code",
   "execution_count": 24,
   "metadata": {},
   "outputs": [
    {
     "name": "stdout",
     "output_type": "stream",
     "text": [
      "predicted labels:  [2 1 0 2 0 2 0 1 1 1 2 1 1 1 1 0 1 1 0 0 2 1 0 0 1 0 0 1 1 0 2 1 0 2 2 1 0\n",
      " 2 1 1 2 0 2 0 0 1 2 2 2 2 1 2 1 1 2 2 2 2 1 2]\n",
      "true labels:  [2 1 0 2 0 2 0 1 1 1 2 1 1 1 1 0 1 1 0 0 2 1 0 0 2 0 0 1 1 0 2 1 0 2 2 1 0\n",
      " 1 1 1 2 0 2 0 0 1 2 2 2 2 1 2 1 1 2 2 2 2 1 2]\n"
     ]
    }
   ],
   "source": [
    "train, test, trainLabels, testLabels = train_test_split(iris.data, iris.target, test_size=0.4, random_state=0)\n",
    "clf = svm.SVC(kernel='linear')\n",
    "clf.fit(train, trainLabels)\n",
    "predictions = clf.predict(test)\n",
    "print('predicted labels: ', predictions)\n",
    "print('true labels: ', testLabels)\n",
    "x=predictions\n",
    "y=testLabels"
   ]
  },
  {
   "cell_type": "markdown",
   "metadata": {},
   "source": [
    "## Confusion Matrix\n",
    "\n",
    "By comparing the predicted labels to the 'true' labels, we could easily compute accuracy like we've done in the past.  This time, however, we want to drill down and get more details, so we're going to build a confusion matrix.\n",
    "\n",
    "A confusion matrix works by making a 2D array (i.e. a matrix), with the rows corresponding to 'true' class labels and the columns corresponding to 'predicted' class labels.  You just need to loop over the pairs of corresponding true/predicted labels, and add to the count in the corresponding cell of the array."
   ]
  },
  {
   "cell_type": "code",
   "execution_count": 25,
   "metadata": {},
   "outputs": [
    {
     "name": "stdout",
     "output_type": "stream",
     "text": [
      "[[16, 0, 0], [0, 22, 1], [0, 1, 20]]\n"
     ]
    }
   ],
   "source": [
    "# todo\n",
    "m = [[0] * 3 for i in range(3)]\n",
    "for predictions, testLabels in zip(predictions, testLabels):\n",
    "    m[predictions][testLabels] += 1\n",
    "print(m)"
   ]
  },
  {
   "cell_type": "markdown",
   "metadata": {},
   "source": [
    "### Confusion Matrix using scikit-learn\n",
    "\n",
    "We can also ask scikit-learn to generate a confusion matrix for us, as the following example shows.  Your own confusion matrix should look just like the one produced by the library."
   ]
  },
  {
   "cell_type": "code",
   "execution_count": 26,
   "metadata": {},
   "outputs": [
    {
     "name": "stdout",
     "output_type": "stream",
     "text": [
      "[[16  0  0]\n",
      " [ 0 22  1]\n",
      " [ 0  1 20]]\n"
     ]
    }
   ],
   "source": [
    "confMat = confusion_matrix(x, y)\n",
    "print(confMat)"
   ]
  },
  {
   "cell_type": "markdown",
   "metadata": {},
   "source": [
    "## Fancy Graphics\n",
    "\n",
    "It's also possible to use Python's plotting tools to make fancy graphical versions of a confusion matrix; the following example is adapted from http://scikit-learn.org/stable/auto_examples/model_selection/plot_confusion_matrix.html.  _NOTE:_ it's fine if you don't understand what this function is doing; we haven't really covered making plots yet.  For now, it's okay if this is just magic."
   ]
  },
  {
   "cell_type": "code",
   "execution_count": 27,
   "metadata": {},
   "outputs": [],
   "source": [
    "import matplotlib.pyplot as plt\n",
    "import itertools\n",
    "%matplotlib inline\n",
    "\n",
    "def plot_confusion_matrix(cm, classes,\n",
    "                          normalize=False,\n",
    "                          title='Confusion matrix',\n",
    "                          cmap=plt.cm.Blues):\n",
    "    \"\"\"\n",
    "    This function prints and plots the confusion matrix.\n",
    "    Normalization can be applied by setting `normalize=True`.\n",
    "    \"\"\"\n",
    "    if normalize:\n",
    "        cm = cm.astype('float') / cm.sum(axis=1)[:, np.newaxis]\n",
    "\n",
    "    plt.imshow(cm, interpolation='nearest', cmap=cmap)\n",
    "    plt.title(title)\n",
    "    plt.colorbar()\n",
    "    tick_marks = np.arange(len(classes))\n",
    "    plt.xticks(tick_marks, classes, rotation=45)\n",
    "    plt.yticks(tick_marks, classes)\n",
    "\n",
    "    fmt = '.2f' if normalize else 'd'\n",
    "    thresh = cm.max() / 2.\n",
    "    for i, j in itertools.product(range(cm.shape[0]), range(cm.shape[1])):\n",
    "        plt.text(j, i, format(cm[i, j], fmt),\n",
    "                 horizontalalignment=\"center\",\n",
    "                 color=\"white\" if cm[i, j] > thresh else \"black\")\n",
    "\n",
    "    plt.tight_layout()\n",
    "    plt.ylabel('True label')\n",
    "    plt.xlabel('Predicted label')\n",
    "\n"
   ]
  },
  {
   "cell_type": "code",
   "execution_count": 28,
   "metadata": {},
   "outputs": [
    {
     "data": {
      "image/png": "[encoded data removed]",
      "text/plain": [
       "<Figure size 432x288 with 2 Axes>"
      ]
     },
     "metadata": {},
     "output_type": "display_data"
    },
    {
     "data": {
      "image/png": "[encoded data removed]",
      "text/plain": [
       "<Figure size 432x288 with 2 Axes>"
      ]
     },
     "metadata": {},
     "output_type": "display_data"
    }
   ],
   "source": [
    "\n",
    "# Plot non-normalized confusion matrix\n",
    "plt.figure()\n",
    "plot_confusion_matrix(confMat, classes=iris.target_names,\n",
    "                      title='Confusion matrix, without normalization')\n",
    "# Plot normalized confusion matrix\n",
    "plt.figure()\n",
    "plot_confusion_matrix(confMat, classes=iris.target_names, normalize=True,\n",
    "                      title='Normalized confusion matrix')\n",
    "\n",
    "plt.show()"
   ]
  },
  {
   "cell_type": "code",
   "execution_count": null,
   "metadata": {},
   "outputs": [],
   "source": []
  },
  {
   "cell_type": "code",
   "execution_count": null,
   "metadata": {},
   "outputs": [],
   "source": []
  },
  {
   "cell_type": "code",
   "execution_count": null,
   "metadata": {},
   "outputs": [],
   "source": []
  }
 ],
 "metadata": {
  "kernelspec": {
   "display_name": "Python 3",
   "language": "python",
   "name": "python3"
  },
  "language_info": {
   "codemirror_mode": {
    "name": "ipython",
    "version": 3
   },
   "file_extension": ".py",
   "mimetype": "text/x-python",
   "name": "python",
   "nbconvert_exporter": "python",
   "pygments_lexer": "ipython3",
   "version": "3.6.5"
  }
 },
 "nbformat": 4,
 "nbformat_minor": 2
}
