{
 "cells": [
  {
   "cell_type": "markdown",
   "metadata": {},
   "source": [
    "# Assignment 3 - Linear Classifiers\n",
    "\n",
    "The goal of this assignment is to familiarize yourself with the SVM classifiers available in scikit-learn and practice applying them to data.\n",
    "\n",
    "This assignment does _not_ require you to implement your own classifier from scratch, but you may need to look at the SciKit-Learn documentation to figure out how to call the library methods."
   ]
  },
  {
   "cell_type": "code",
   "execution_count": 2,
   "metadata": {},
   "outputs": [],
   "source": [
    "# import the things we'll need\n",
    "import math\n",
    "import numpy as np\n",
    "from sklearn import neighbors\n",
    "from sklearn import datasets\n",
    "from sklearn import svm\n",
    "import matplotlib.pyplot as plt\n",
    "from sklearn.model_selection import train_test_split"
   ]
  },
  {
   "cell_type": "markdown",
   "metadata": {},
   "source": [
    "## Load some data\n",
    "Let's go ahead and use the iris dataset again.  Load it the same way we did in Assignment 1b, and split it into 60% train and 40% test just like we did there.\n",
    "\n",
    "**Be sure to use the argument `random_state=0` just like we did in the previous assignment.**  This is a \"seed\" for the random number generator; any particular seed value should always result in the same set of \"random\" numbers.  We'll use fixed seed values here because it will allow everyone to get the same results."
   ]
  },
  {
   "cell_type": "code",
   "execution_count": 130,
   "metadata": {},
   "outputs": [
    {
     "name": "stdout",
     "output_type": "stream",
     "text": [
      "training shape: (90, 4) , testing shape: (60, 4)\n"
     ]
    }
   ],
   "source": [
    "# load the iris dataset and split it\n",
    "iris = datasets.load_iris()\n",
    "y=iris.target\n",
    "# let's train a nearest neighbor classifier...\n",
    "# note that we can use 'n_neighbors' to control the \"K\" in our KNN\n",
    "classifierA = neighbors.KNeighborsClassifier(metric='euclidean', n_neighbors=1)\n",
    "classifierA.fit(iris.data, iris.target)\n",
    "#splitting our data into two parts \n",
    "X_train, X_test, y_train, y_test = train_test_split(iris.data, iris.target, test_size=0.4, random_state=1)\n",
    "\n",
    "print(\"training shape:\", X_train.shape, \", testing shape:\", X_test.shape)"
   ]
  },
  {
   "cell_type": "markdown",
   "metadata": {},
   "source": [
    "## Create a Nearest Neighbor classifier\n",
    "Create a nearest neighbor classifier just like we did in Assignment 1b; here, we will use it as a baseline for comparing our new classifiers.  Be sure to train it and then evaluate its performance on the testing data (again, you should be able to use code from the previous assignment with little or no modification to do this).  Use an n_neighbors value of 1.  This should give you the same accuracy as you got in the previous assignment.\n",
    "\n",
    "Once you've got it working, try changing the `random_state` value in the train_test_split function to 1 and re-running your nearest-neighbor classifier.  Try it again with a value of 2.  Write down each of the accuracies below; the first one has been done for you."
   ]
  },
  {
   "cell_type": "code",
   "execution_count": 131,
   "metadata": {},
   "outputs": [
    {
     "data": {
      "text/plain": [
       "0.9666666666666667"
      ]
     },
     "execution_count": 131,
     "metadata": {},
     "output_type": "execute_result"
    }
   ],
   "source": [
    "# create, train, and test a nearest neighbor classifier\n",
    "classifierB = neighbors.KNeighborsClassifier(metric='euclidean', n_neighbors=1)\n",
    "classifierB.fit(X_train, y_train)\n",
    "classifierB.score(X_test, y_test)"
   ]
  },
  {
   "cell_type": "markdown",
   "metadata": {},
   "source": [
    "**Question 1: accuracy of nearest neighbor for different random seed values**\n",
    "\n",
    "seed=0, accuracy = 0.9166666666666666\n",
    "\n",
    "seed=1, accuracy = 0.9666666666666667\n",
    "\n",
    "seed=2, accuracy = 0.9666666666666667\n"
   ]
  },
  {
   "cell_type": "markdown",
   "metadata": {},
   "source": [
    "## Create a linear SVM\n",
    "Code to create a linear SVM is given; however, it is left to you to add lines to train the SVM on the training data and then evaluate its accuracy on the testing data.  This should work just like the training/testing process did using the nearestNeighbor class.\n",
    "\n",
    "Test your classifier on different train/test splits using the same three random-seed values as previously, and report the accuracies you get."
   ]
  },
  {
   "cell_type": "code",
   "execution_count": 132,
   "metadata": {},
   "outputs": [
    {
     "data": {
      "text/plain": [
       "0.9833333333333333"
      ]
     },
     "execution_count": 132,
     "metadata": {},
     "output_type": "execute_result"
    }
   ],
   "source": [
    "linearSvm = svm.SVC(kernel='linear')\n",
    "linearSvm.fit(X_train, y_train)\n",
    "linearSvm.score(X_test, y_test)\n",
    "\n",
    "\n",
    "\n",
    "\n",
    "# train and test"
   ]
  },
  {
   "cell_type": "markdown",
   "metadata": {},
   "source": [
    "**Question 2: accuracy of linear SVM for different random seed values**\n",
    "\n",
    "seed=0, accuracy =0.9666666666666667\n",
    "\n",
    "seed=1, accuracy =0.9833333333333333\n",
    "\n",
    "seed=2, accuracy = 0.9666666666666667"
   ]
  },
  {
   "cell_type": "markdown",
   "metadata": {},
   "source": [
    "## Create a polynomial-kernel SVM\n",
    "Create another SVM, only this time use the argument `kernel='poly'` to make an SVM using a polynomial kernel.  Train and test it with different seed values as before."
   ]
  },
  {
   "cell_type": "code",
   "execution_count": 133,
   "metadata": {},
   "outputs": [
    {
     "data": {
      "text/plain": [
       "0.9833333333333333"
      ]
     },
     "execution_count": 133,
     "metadata": {},
     "output_type": "execute_result"
    }
   ],
   "source": [
    "# create, train, and test\n",
    "linearSvm = svm.SVC(kernel='poly',C=1)\n",
    "linearSvm.fit(X_train, y_train)\n",
    "linearSvm.score(X_test, y_test)"
   ]
  },
  {
   "cell_type": "markdown",
   "metadata": {},
   "source": [
    "**Question 3: accuracy of polynomial SVM for different random seed values**\n",
    "\n",
    "seed=0, accuracy =0.9666666666666667\n",
    "\n",
    "seed=1, accuracy =0.9833333333333333\n",
    "\n",
    "seed=2, accuracy = 0.95"
   ]
  },
  {
   "cell_type": "markdown",
   "metadata": {},
   "source": [
    "## Create a rbf-kernel SVM\n",
    "\n",
    "Create another svm, this time using `'rbf'` for the kernel type.  Train and test as before."
   ]
  },
  {
   "cell_type": "code",
   "execution_count": 134,
   "metadata": {},
   "outputs": [
    {
     "data": {
      "text/plain": [
       "0.9833333333333333"
      ]
     },
     "execution_count": 134,
     "metadata": {},
     "output_type": "execute_result"
    }
   ],
   "source": [
    "# create, train, and test\n",
    "linearSvm = svm.SVC(kernel='rbf')\n",
    "linearSvm.fit(X_train, y_train)\n",
    "linearSvm.score(X_test, y_test)"
   ]
  },
  {
   "cell_type": "markdown",
   "metadata": {},
   "source": [
    "**Question 4: accuracy of rbf SVM for different random seed values**\n",
    "\n",
    "seed=0, accuracy =0.95\n",
    "\n",
    "seed=1, accuracy =0.9833333333333333\n",
    "\n",
    "seed=2, accuracy =0.9666666666666667"
   ]
  },
  {
   "cell_type": "code",
   "execution_count": 3,
   "metadata": {},
   "outputs": [
    {
     "data": {
      "text/plain": [
       "1.7320508075688772"
      ]
     },
     "execution_count": 3,
     "metadata": {},
     "output_type": "execute_result"
    }
   ],
   "source": [
    "math.sqrt(3)"
   ]
  },
  {
   "cell_type": "code",
   "execution_count": null,
   "metadata": {},
   "outputs": [],
   "source": []
  }
 ],
 "metadata": {
  "kernelspec": {
   "display_name": "Python 3",
   "language": "python",
   "name": "python3"
  },
  "language_info": {
   "codemirror_mode": {
    "name": "ipython",
    "version": 3
   },
   "file_extension": ".py",
   "mimetype": "text/x-python",
   "name": "python",
   "nbconvert_exporter": "python",
   "pygments_lexer": "ipython3",
   "version": "3.6.5"
  }
 },
 "nbformat": 4,
 "nbformat_minor": 2
}
